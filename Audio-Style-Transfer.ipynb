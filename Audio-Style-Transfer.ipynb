{
 "cells": [
  {
   "cell_type": "code",
   "execution_count": null,
   "id": "befa7bfe-0c2a-44fb-a8cb-02ae99cab0f6",
   "metadata": {},
   "outputs": [],
   "source": [
    "import librosa\n",
    "import numpy as np\n",
    "import soundfile as sf\n",
    "import torch\n",
    "\n",
    "from os import path\n",
    "from torch.autograd import Variable\n",
    "\n",
    "from NeuralStyleTransfer import CNNModel, GramMatrix, StyleLoss\n",
    "from utils import plot_spectrum, read_audio_spectum, run_style_transfer\n",
    "\n",
    "DURATION = 16\n",
    "N_FFT = 2048"
   ]
  },
  {
   "cell_type": "code",
   "execution_count": null,
   "id": "b8f33f8f-df89-4437-ba3b-ffa72fc8b490",
   "metadata": {},
   "outputs": [],
   "source": [
    "content_fname = \"johntejada-1\"\n",
    "style_fname = \"beat-box-1\"\n",
    "\n",
    "content_path = path.join(\"./wavs/corpus\", content_fname + \".wav\")\n",
    "style_path = path.join(\"./wavs/target\", style_fname + \".wav\")"
   ]
  },
  {
   "cell_type": "code",
   "execution_count": null,
   "id": "f6758da2-1d00-47f6-83d8-f746a8456371",
   "metadata": {},
   "outputs": [],
   "source": [
    "style_audio, style_sr = read_audio_spectum(style_path, duration=DURATION, n_fft=N_FFT)\n",
    "content_audio, content_sr = read_audio_spectum(content_path, duration=DURATION, n_fft=N_FFT)\n",
    "\n",
    "plot_spectrum(style_audio)\n",
    "plot_spectrum(content_audio)"
   ]
  },
  {
   "cell_type": "code",
   "execution_count": null,
   "id": "d5a33a21-61e4-446c-a6ec-c23cc388d5bf",
   "metadata": {},
   "outputs": [],
   "source": [
    "num_samples = min(style_audio.shape[1], content_audio.shape[1])\n",
    "\n",
    "style_audio = style_audio[:, :num_samples].reshape([1, 1025, num_samples])\n",
    "content_audio = content_audio[:, :num_samples].reshape([1, 1025, num_samples])\n",
    "\n",
    "if(content_sr == style_sr):\n",
    "    print('Sampling Rates are same')\n",
    "else:\n",
    "    print('Sampling rates are not same')"
   ]
  },
  {
   "cell_type": "code",
   "execution_count": null,
   "id": "8d6a9fe7-40b8-4016-aaae-a4467cb2ba4f",
   "metadata": {},
   "outputs": [],
   "source": [
    "cnn = CNNModel()\n",
    "\n",
    "if torch.cuda.is_available():\n",
    "    cnn = cnn.cuda()\n",
    "    style_float = Variable((torch.from_numpy(style_audio)).cuda())\n",
    "    content_float = Variable((torch.from_numpy(content_audio)).cuda())\t\n",
    "else:\n",
    "    style_float = Variable(torch.from_numpy(style_audio))\n",
    "    content_float = Variable(torch.from_numpy(content_audio))\n"
   ]
  },
  {
   "cell_type": "code",
   "execution_count": null,
   "id": "b33ad892-e3f6-4edc-a980-9e55377028c4",
   "metadata": {},
   "outputs": [],
   "source": [
    "input_float = content_float.clone()\n",
    "\n",
    "num_steps = 2500\n",
    "style_weight = 2500\n",
    "\n",
    "output = run_style_transfer(\n",
    "    cnn,\n",
    "    style_float,\n",
    "    input_float,\n",
    "    num_steps=num_steps,\n",
    "    style_weight=style_weight,\n",
    "    style_layers=['conv_1'],\n",
    "    lr=0.03)\n",
    "\n",
    "if torch.cuda.is_available():\n",
    "    output = output.cpu()\n"
   ]
  },
  {
   "cell_type": "code",
   "execution_count": null,
   "id": "18b730f9-39cc-4b81-a3d5-d25a1deac72e",
   "metadata": {},
   "outputs": [],
   "source": [
    "output_np = output.squeeze(0).numpy()\n",
    "\n",
    "a = np.zeros_like(output_np)\n",
    "a = np.exp(output_np) - 1\n",
    "\n",
    "# This code is supposed to do phase reconstruction\n",
    "p = 2 * np.pi * np.random.random_sample(a.shape) - np.pi\n",
    "for i in range(500):\n",
    "    S = a * np.exp(1j * p)\n",
    "    x = librosa.istft(S)\n",
    "    p = np.angle(librosa.stft(x, n_fft=N_FFT))\n",
    "\n",
    "output_fname = f'output1D-4096_iter-{num_steps}_c-{content_fname}_s-{style_fname}_sw-{style_weight}_k3s1p1.wav'\n",
    "sf.write(output_fname, x, style_sr)"
   ]
  },
  {
   "cell_type": "code",
   "execution_count": null,
   "id": "d9d5c6a6-32b4-4a45-8129-a4a1b10d0b0c",
   "metadata": {},
   "outputs": [],
   "source": []
  }
 ],
 "metadata": {
  "kernelspec": {
   "display_name": "Python 3 (ipykernel)",
   "language": "python",
   "name": "python3"
  },
  "language_info": {
   "codemirror_mode": {
    "name": "ipython",
    "version": 3
   },
   "file_extension": ".py",
   "mimetype": "text/x-python",
   "name": "python",
   "nbconvert_exporter": "python",
   "pygments_lexer": "ipython3",
   "version": "3.10.9"
  }
 },
 "nbformat": 4,
 "nbformat_minor": 5
}
